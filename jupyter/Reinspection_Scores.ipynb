{
 "cells": [
  {
   "cell_type": "code",
   "execution_count": 6,
   "metadata": {},
   "outputs": [
    {
     "name": "stdout",
     "output_type": "stream",
     "text": [
      "17\n",
      "Index(['business_id', 'business_name', 'business_address', 'business_city',\n",
      "       'business_state', 'business_postal_code', 'business_latitude',\n",
      "       'business_longitude', 'business_location', 'business_phone_number',\n",
      "       'inspection_id', 'inspection_date', 'inspection_score',\n",
      "       'inspection_type', 'violation_id', 'violation_description',\n",
      "       'risk_category'],\n",
      "      dtype='object')\n"
     ]
    }
   ],
   "source": [
    "import pandas as pd\n",
    "\n",
    "scores = pd.read_csv(\"Restaurant_Scores.csv\")\n",
    "\n",
    "print(len(scores.columns))\n",
    "print(scores.columns)\n",
    "#print(scores)"
   ]
  },
  {
   "cell_type": "code",
   "execution_count": 7,
   "metadata": {},
   "outputs": [
    {
     "name": "stdout",
     "output_type": "stream",
     "text": [
      "This data set contains 9664 inspections of 2753 businesses.\n"
     ]
    }
   ],
   "source": [
    "num_businesses = len(scores.business_id.unique())\n",
    "num_inspections = len(scores.inspection_id.unique())\n",
    "\n",
    "print(\"This data set contains\", num_inspections, \"inspections of\", num_businesses, \"businesses.\" )"
   ]
  },
  {
   "cell_type": "code",
   "execution_count": 8,
   "metadata": {},
   "outputs": [
    {
     "name": "stdout",
     "output_type": "stream",
     "text": [
      "Original length: 21158\n",
      "New length: 16512\n"
     ]
    }
   ],
   "source": [
    "#for now, drop rows with missing data\n",
    "print('Original length:', len(scores))\n",
    "scores = scores.dropna(subset=['inspection_score', 'business_latitude', 'business_longitude' ])\n",
    "#for now, drop rows with 0 for lattitude (missing data)\n",
    "#later, convert addresses to lat, long\n",
    "scores = scores[scores.business_latitude > 37.7] #drop any point not in SF proper\n",
    "scores = scores[scores.business_longitude < -122.375] #drop any point not in SF proper\n",
    "print('New length:', len(scores))"
   ]
  },
  {
   "cell_type": "code",
   "execution_count": 9,
   "metadata": {},
   "outputs": [],
   "source": [
    "import numpy as np\n",
    "scores_dedup = scores.groupby('inspection_id').mean()\n",
    "score_change = []\n",
    "for i in range(len(scores_dedup.index) - 1):\n",
    "    if scores_dedup.business_id[i] == scores_dedup.business_id[i + 1]:\n",
    "        score_diff = scores_dedup.inspection_score[i + 1] - scores_dedup.inspection_score[i]\n",
    "        #grouping by inspection id and taking mean removed date - fix later\n",
    "        #date_diff = scores_dedup.inspection_date[i + 1] - scores_dedup.inspection_date[i] \n",
    "        score_change.append([scores_dedup.inspection_score[i], score_diff])\n",
    "score_change = np.array(score_change)"
   ]
  },
  {
   "cell_type": "code",
   "execution_count": 28,
   "metadata": {},
   "outputs": [],
   "source": [
    "%matplotlib inline\n",
    "\n",
    "import matplotlib.pyplot as plt\n",
    "from numpy import linspace, meshgrid\n",
    "# from matplotlib.mlab import griddata\n"
   ]
  },
  {
   "cell_type": "code",
   "execution_count": 27,
   "metadata": {
    "scrolled": true
   },
   "outputs": [
    {
     "data": {
      "text/plain": [
       "<matplotlib.legend.Legend at 0x1200a7588>"
      ]
     },
     "execution_count": 27,
     "metadata": {},
     "output_type": "execute_result"
    },
    {
     "data": {
      "image/png": "[encoded data removed]",
      "text/plain": [
       "<Figure size 432x288 with 2 Axes>"
      ]
     },
     "metadata": {
      "needs_background": "light"
     },
     "output_type": "display_data"
    }
   ],
   "source": [
    "from sklearn.linear_model import LinearRegression\n",
    "from sklearn.pipeline import make_pipeline\n",
    "from sklearn.preprocessing import PolynomialFeatures\n",
    "from matplotlib.colors import LogNorm\n",
    "\n",
    "poly_model = make_pipeline(PolynomialFeatures(5),\n",
    "                           LinearRegression())\n",
    "\n",
    "poly_model.fit(score_change[:, 0, np.newaxis], score_change[:,1] + score_change[:, 0])\n",
    "\n",
    "xfit = np.linspace(40, 100, 1000)\n",
    "yfit = poly_model.predict(xfit[:, np.newaxis])\n",
    "\n",
    "#plt.scatter(score_change[:,0], score_change[:,1])\n",
    "plt.figure(figsize=(6,4))\n",
    "plt.hist2d(score_change[:,0], score_change[:,1] + score_change[:, 0], bins=27, norm=LogNorm(), cmap='viridis')\n",
    "plt.colorbar()\n",
    "plt.xlabel(\"Score\")\n",
    "plt.ylabel(\"New Score\")\n",
    "regression_fit, = plt.plot(xfit, yfit, c='red', label='Fit')\n",
    "plt.legend(handles=[regression_fit])"
   ]
  },
  {
   "cell_type": "markdown",
   "metadata": {
    "collapsed": true
   },
   "source": [
    "Testing Reinspections:\n",
    "\n",
    "An interesting insight is that no matter how bad the previous score was, the next inspection score on average, is brought up into the low 80s (red line). If a health score of 80 is too low for your liking (it is for mine), there is a fairly linear relationship in the scores from around 85 to 100. Meaning, if a first score was good, it is likely to remain around the same value upon reinspection. That means if you really want a pristine experience (90-100), you may not even want to gamble on a decently scoring restaurant (~80)."
   ]
  },
  {
   "cell_type": "code",
   "execution_count": null,
   "metadata": {},
   "outputs": [],
   "source": []
  }
 ],
 "metadata": {
  "kernelspec": {
   "display_name": "Python 3",
   "language": "python",
   "name": "python3"
  },
  "language_info": {
   "codemirror_mode": {
    "name": "ipython",
    "version": 3
   },
   "file_extension": ".py",
   "mimetype": "text/x-python",
   "name": "python",
   "nbconvert_exporter": "python",
   "pygments_lexer": "ipython3",
   "version": "3.7.3"
  }
 },
 "nbformat": 4,
 "nbformat_minor": 2
}
